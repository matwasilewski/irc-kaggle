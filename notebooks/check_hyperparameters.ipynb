{
 "cells": [
  {
   "cell_type": "code",
   "execution_count": 3,
   "id": "e7b80355",
   "metadata": {},
   "outputs": [
    {
     "name": "stdout",
     "output_type": "stream",
     "text": [
      "Classifier parameters for greeks_XGBlassifier_tuned_grid.pkl:\n",
      "{'XGBlassifier__alpha': 1, 'XGBlassifier__booster': 'gbtree', 'XGBlassifier__lambda': 1, 'XGBlassifier__max_depth': 2}\n",
      "\n",
      "Classifier parameters for greeks_CatBoostClassifier_tuned_grid.pkl:\n",
      "{'CatBoostClassifier__bagging_temperature': 1.0, 'CatBoostClassifier__boosting_type': 'Plain', 'CatBoostClassifier__depth': 5, 'CatBoostClassifier__grow_policy': 'Depthwise', 'CatBoostClassifier__iterations': 200, 'CatBoostClassifier__l2_leaf_reg': 3, 'CatBoostClassifier__learning_rate': 0.07, 'CatBoostClassifier__max_bin': 65535, 'CatBoostClassifier__max_leaves': 31, 'CatBoostClassifier__min_data_in_leaf': 1, 'CatBoostClassifier__random_strength': 5.0, 'CatBoostClassifier__rsm': 1.0, 'CatBoostClassifier__sampling_frequency': 'PerTreeLevel', 'CatBoostClassifier__thread_count': -1}\n",
      "\n",
      "Classifier parameters for no_greeks_CatBoostClassifier_tuned_grid.pkl:\n",
      "{'CatBoostClassifier__bagging_temperature': 1.0, 'CatBoostClassifier__boosting_type': 'Plain', 'CatBoostClassifier__depth': 6, 'CatBoostClassifier__grow_policy': 'Depthwise', 'CatBoostClassifier__iterations': 200, 'CatBoostClassifier__l2_leaf_reg': 3, 'CatBoostClassifier__learning_rate': 0.07, 'CatBoostClassifier__max_bin': 65535, 'CatBoostClassifier__max_leaves': 31, 'CatBoostClassifier__min_data_in_leaf': 3, 'CatBoostClassifier__random_strength': 5.0, 'CatBoostClassifier__rsm': 1.0, 'CatBoostClassifier__sampling_frequency': 'PerTreeLevel', 'CatBoostClassifier__thread_count': -1}\n",
      "\n",
      "Classifier parameters for no_greeks_XGBlassifier_tuned_grid.pkl:\n",
      "{'XGBlassifier__alpha': 0.001, 'XGBlassifier__booster': 'gbtree', 'XGBlassifier__lambda': 1, 'XGBlassifier__max_depth': 2}\n",
      "\n",
      "Classifier parameters for no_greeks_LGBMClassifier_tuned_grid.pkl:\n",
      "{'LGBMClassifier__boosting_type': 'dart', 'LGBMClassifier__n_estimators': 300, 'LGBMClassifier__reg_alpha': 0.1, 'LGBMClassifier__reg_lambda': 0.1}\n",
      "\n",
      "Classifier parameters for greeks_LGBMClassifier_tuned_grid.pkl:\n",
      "{'LGBMClassifier__boosting_type': 'dart', 'LGBMClassifier__n_estimators': 300, 'LGBMClassifier__reg_alpha': 0, 'LGBMClassifier__reg_lambda': 0.1}\n",
      "\n"
     ]
    }
   ],
   "source": [
    "import os\n",
    "import pickle\n",
    "\n",
    "def load_classifiers_from_directory(directory_path):\n",
    "\n",
    "    if not os.path.isdir(directory_path):\n",
    "        print(f\"Directory '{directory_path}' does not exist.\")\n",
    "        return\n",
    "\n",
    "    # Iterate over the files in the directory\n",
    "    for file_name in os.listdir(directory_path):\n",
    "        # Check if the file is a pickle file\n",
    "        if file_name.endswith('.pkl'):\n",
    "            file_path = os.path.join(directory_path, file_name)\n",
    "            try:\n",
    "                # Load the classifier from the pickle file\n",
    "                with open(file_path, 'rb') as file:\n",
    "                    classifier = pickle.load(file)\n",
    "                print(f\"Classifier parameters for {file_name}:\")\n",
    "                print(classifier.best_params_)\n",
    "                print()\n",
    "\n",
    "            except Exception as e:\n",
    "                print(f\"Failed to load classifier from {file_name}: {str(e)}\")\n",
    "                continue\n",
    "\n",
    "# Provide the directory path as input\n",
    "directory_path = \"../artefacts\"\n",
    "load_classifiers_from_directory(directory_path)"
   ]
  }
 ],
 "metadata": {
  "kernelspec": {
   "display_name": "Python 3 (ipykernel)",
   "language": "python",
   "name": "python3"
  },
  "language_info": {
   "codemirror_mode": {
    "name": "ipython",
    "version": 3
   },
   "file_extension": ".py",
   "mimetype": "text/x-python",
   "name": "python",
   "nbconvert_exporter": "python",
   "pygments_lexer": "ipython3",
   "version": "3.9.7"
  }
 },
 "nbformat": 4,
 "nbformat_minor": 5
}
